{
  "nbformat": 4,
  "nbformat_minor": 0,
  "metadata": {
    "colab": {
      "provenance": []
    },
    "kernelspec": {
      "name": "python3",
      "display_name": "Python 3"
    },
    "language_info": {
      "name": "python"
    },
    "accelerator": "GPU"
  },
  "cells": [
    {
      "cell_type": "markdown",
      "metadata": {
        "id": "RngKMAelr3-Q"
      },
      "source": [
        "<small><font color=gray>Notebook authors: <a href=\"https://www.linkedin.com/in/olegmelnikov/\" target=\"_blank\">Oleg Melnikov</a>, Kiryll Bykov, Alexey Boldyrev ©2021 onwards</font></small><hr style=\"margin:0;background-color:silver\">\n",
        "\n",
        "**[<font size=6>📈Crypto</font>](https://www.kaggle.com/competitions/11mar24hse-crypto/rules)**. [**Instructions**](https://colab.research.google.com/drive/1owkYjuRGkx050LQnM3b3yTzd0Dr2XbeV) for running Colabs."
      ]
    },
    {
      "cell_type": "markdown",
      "source": [
        "<small>**CONSENT.** <mark>[ X ]</mark> We consent to sharing our Colab (after the assignment ends) with other students/instructors for educational purposes."
      ],
      "metadata": {
        "id": "SC0pgp0bNK0s"
      }
    },
    {
      "cell_type": "code",
      "source": [
        "from google.colab import drive; drive.mount('/content/drive')   # OK to enable, if kaggle.json is stored in Google Drive"
      ],
      "metadata": {
        "id": "lUqrHtk9a031",
        "colab": {
          "base_uri": "https://localhost:8080/"
        },
        "outputId": "5432f079-8cb6-404b-c43c-e506ab634377"
      },
      "execution_count": null,
      "outputs": [
        {
          "output_type": "stream",
          "name": "stdout",
          "text": [
            "Mounted at /content/drive\n"
          ]
        }
      ]
    },
    {
      "cell_type": "code",
      "metadata": {
        "id": "7mfoxO3JKx3r"
      },
      "source": [
        "%%capture\n",
        "pip install -U kaggle  # upgrade kaggle package (to avoid a warning)"
      ],
      "execution_count": null,
      "outputs": []
    },
    {
      "cell_type": "code",
      "source": [
        "!mkdir -p ~/.kaggle                               # .kaggle folder must contain kaggle.json for kaggle executable to properly authenticate you to Kaggle.com\n",
        "!cp /content/drive/MyDrive/kaggle.json ~/.kaggle/kaggle.json  # First, download kaggle.json from kaggle.com (in Account page) and place it in the root of mounted Google Drive\n",
        "# !cp kaggle.json ~/.kaggle/kaggle.json           # Alternative location of kaggle.json (without a connection to Google Drive)\n",
        "!chmod 600 ~/.kaggle/kaggle.json                  # give only the owner full read/write access to kaggle.json\n",
        "!kaggle config set -n competition -v 11mar24hse-crypto # set the competition context for the next few kaggle API calls. !kaggle config view - shows current settings\n",
        "!kaggle competitions download                     # download competition dataset as a zip file\n",
        "!unzip -o *.zip                                   # Kaggle dataset is copied as a single file and needs to be unzipped.\n",
        "!kaggle competitions leaderboard --show           # print public leaderboard"
      ],
      "metadata": {
        "id": "E4wWE87TGz1Z",
        "colab": {
          "base_uri": "https://localhost:8080/"
        },
        "outputId": "bf7f887c-07fb-4703-e43c-a442e7a7124b"
      },
      "execution_count": null,
      "outputs": [
        {
          "output_type": "stream",
          "name": "stdout",
          "text": [
            "cp: cannot stat '/content/drive/MyDrive/kaggle.json': No such file or directory\n",
            "chmod: cannot access '/root/.kaggle/kaggle.json': No such file or directory\n",
            "Traceback (most recent call last):\n",
            "  File \"/usr/local/bin/kaggle\", line 5, in <module>\n",
            "    from kaggle.cli import main\n",
            "  File \"/usr/local/lib/python3.10/dist-packages/kaggle/__init__.py\", line 23, in <module>\n",
            "    api.authenticate()\n",
            "  File \"/usr/local/lib/python3.10/dist-packages/kaggle/api/kaggle_api_extended.py\", line 403, in authenticate\n",
            "    raise IOError('Could not find {}. Make sure it\\'s located in'\n",
            "OSError: Could not find kaggle.json. Make sure it's located in /root/.kaggle. Or use the environment method.\n",
            "Traceback (most recent call last):\n",
            "  File \"/usr/local/bin/kaggle\", line 5, in <module>\n",
            "    from kaggle.cli import main\n",
            "  File \"/usr/local/lib/python3.10/dist-packages/kaggle/__init__.py\", line 23, in <module>\n",
            "    api.authenticate()\n",
            "  File \"/usr/local/lib/python3.10/dist-packages/kaggle/api/kaggle_api_extended.py\", line 403, in authenticate\n",
            "    raise IOError('Could not find {}. Make sure it\\'s located in'\n",
            "OSError: Could not find kaggle.json. Make sure it's located in /root/.kaggle. Or use the environment method.\n",
            "unzip:  cannot find or open *.zip, *.zip.zip or *.zip.ZIP.\n",
            "\n",
            "No zipfiles found.\n",
            "Traceback (most recent call last):\n",
            "  File \"/usr/local/bin/kaggle\", line 5, in <module>\n",
            "    from kaggle.cli import main\n",
            "  File \"/usr/local/lib/python3.10/dist-packages/kaggle/__init__.py\", line 23, in <module>\n",
            "    api.authenticate()\n",
            "  File \"/usr/local/lib/python3.10/dist-packages/kaggle/api/kaggle_api_extended.py\", line 403, in authenticate\n",
            "    raise IOError('Could not find {}. Make sure it\\'s located in'\n",
            "OSError: Could not find kaggle.json. Make sure it's located in /root/.kaggle. Or use the environment method.\n"
          ]
        }
      ]
    },
    {
      "cell_type": "markdown",
      "metadata": {
        "id": "aCP_1mf5nPKa"
      },
      "source": [
        "See [more](https://nvidia.custhelp.com/app/answers/detail/a_id/3751/~/useful-nvidia-smi-queries) about NVIDIA GPU stats. Test your code in (free) Colab. It uses Tesla T4 or Tesla K80 GPU."
      ]
    },
    {
      "cell_type": "code",
      "metadata": {
        "id": "x0PisekMlkbV",
        "colab": {
          "base_uri": "https://localhost:8080/"
        },
        "outputId": "81c37a94-4e32-41a9-a79b-98b785954f5b"
      },
      "source": [
        "!nvidia-smi --query-gpu=gpu_name,memory.total,memory.free,memory.used --format=csv"
      ],
      "execution_count": null,
      "outputs": [
        {
          "output_type": "stream",
          "name": "stdout",
          "text": [
            "name, memory.total [MiB], memory.free [MiB], memory.used [MiB]\n",
            "Tesla T4, 15360 MiB, 15101 MiB, 0 MiB\n"
          ]
        }
      ]
    },
    {
      "cell_type": "code",
      "metadata": {
        "id": "XNs8WbjzTp71",
        "colab": {
          "base_uri": "https://localhost:8080/"
        },
        "outputId": "1b3add20-c1a4-4366-ac93-3f66424c14a3"
      },
      "source": [
        "%%time\n",
        "%%capture\n",
        "%reset -f\n",
        "from IPython.core.interactiveshell import InteractiveShell as IS; IS.ast_node_interactivity = \"all\"\n",
        "import numpy as np, pandas as pd, time, matplotlib.pyplot as plt, os\n",
        "import torch\n",
        "from torch import nn\n",
        "from torch.utils.data import DataLoader, TensorDataset\n",
        "torch.backends.cudnn.deterministic = True\n",
        "torch.backends.cudnn.benchmark = False\n",
        "torch.manual_seed(0)\n",
        "torch.cuda.manual_seed_all(0)\n",
        "ToCSV = lambda df, fname: df.round(2).to_csv(f'{fname}.csv', index_label='id') # rounds values to 2 decimals\n",
        "\n",
        "class Timer():\n",
        "  def __init__(self, lim:'RunTimeLimit'=60*5): self.t0, self.lim, _ = time.time(), lim, print(f'⏳ started. You have {lim} sec. Good luck!')\n",
        "  def ShowTime(self):\n",
        "    msg = f'Runtime is {time.time()-self.t0:.0f} sec'\n",
        "    print(f'\\033[91m\\033[1m' + msg + f' > {self.lim} sec limit!!!\\033[0m' if (time.time()-self.t0-1) > self.lim else msg)\n",
        "\n",
        "np.set_printoptions(linewidth=100, precision=2, edgeitems=5, suppress=True)\n",
        "pd.set_option('display.max_columns', 20, 'display.precision', 2, 'display.max_rows', 4)"
      ],
      "execution_count": null,
      "outputs": [
        {
          "output_type": "stream",
          "name": "stdout",
          "text": [
            "CPU times: user 1.58 s, sys: 346 ms, total: 1.93 s\n",
            "Wall time: 3.73 s\n"
          ]
        }
      ]
    },
    {
      "cell_type": "markdown",
      "metadata": {
        "id": "PgkRR6ZWTthh"
      },
      "source": [
        "Your training data are 7 descriptive features for past 500K observations. See helpful [Tutorial to the G-Research Crypto Competition](https://www.kaggle.com/cstein06/tutorial-to-the-g-research-crypto-competition)."
      ]
    },
    {
      "cell_type": "code",
      "metadata": {
        "id": "wsKZJFsLTvg2",
        "colab": {
          "base_uri": "https://localhost:8080/",
          "height": 266
        },
        "outputId": "299c990b-ab74-4912-9421-035edb80c620"
      },
      "source": [
        "tXY = pd.read_csv('/content/drive/MyDrive/tXY.csv', index_col='id'); tXY"
      ],
      "execution_count": null,
      "outputs": [
        {
          "output_type": "execute_result",
          "data": {
            "text/plain": [
              "        Count  Open  High   Low  Close  Volume  VWAP\n",
              "id                                                  \n",
              "0          64  0.20  0.20  0.20   0.20     447  0.20\n",
              "1          72  0.20  0.20  0.20   0.20     592  0.20\n",
              "...       ...   ...   ...   ...    ...     ...   ...\n",
              "499998   1636  1.15  1.16  1.15   1.15    2615  1.15\n",
              "499999   3228  1.13  1.14  1.12   1.13    3354  1.13\n",
              "\n",
              "[500000 rows x 7 columns]"
            ],
            "text/html": [
              "\n",
              "  <div id=\"df-28b4712d-d32c-418c-bffa-190687ea778b\" class=\"colab-df-container\">\n",
              "    <div>\n",
              "<style scoped>\n",
              "    .dataframe tbody tr th:only-of-type {\n",
              "        vertical-align: middle;\n",
              "    }\n",
              "\n",
              "    .dataframe tbody tr th {\n",
              "        vertical-align: top;\n",
              "    }\n",
              "\n",
              "    .dataframe thead th {\n",
              "        text-align: right;\n",
              "    }\n",
              "</style>\n",
              "<table border=\"1\" class=\"dataframe\">\n",
              "  <thead>\n",
              "    <tr style=\"text-align: right;\">\n",
              "      <th></th>\n",
              "      <th>Count</th>\n",
              "      <th>Open</th>\n",
              "      <th>High</th>\n",
              "      <th>Low</th>\n",
              "      <th>Close</th>\n",
              "      <th>Volume</th>\n",
              "      <th>VWAP</th>\n",
              "    </tr>\n",
              "    <tr>\n",
              "      <th>id</th>\n",
              "      <th></th>\n",
              "      <th></th>\n",
              "      <th></th>\n",
              "      <th></th>\n",
              "      <th></th>\n",
              "      <th></th>\n",
              "      <th></th>\n",
              "    </tr>\n",
              "  </thead>\n",
              "  <tbody>\n",
              "    <tr>\n",
              "      <th>0</th>\n",
              "      <td>64</td>\n",
              "      <td>0.20</td>\n",
              "      <td>0.20</td>\n",
              "      <td>0.20</td>\n",
              "      <td>0.20</td>\n",
              "      <td>447</td>\n",
              "      <td>0.20</td>\n",
              "    </tr>\n",
              "    <tr>\n",
              "      <th>1</th>\n",
              "      <td>72</td>\n",
              "      <td>0.20</td>\n",
              "      <td>0.20</td>\n",
              "      <td>0.20</td>\n",
              "      <td>0.20</td>\n",
              "      <td>592</td>\n",
              "      <td>0.20</td>\n",
              "    </tr>\n",
              "    <tr>\n",
              "      <th>...</th>\n",
              "      <td>...</td>\n",
              "      <td>...</td>\n",
              "      <td>...</td>\n",
              "      <td>...</td>\n",
              "      <td>...</td>\n",
              "      <td>...</td>\n",
              "      <td>...</td>\n",
              "    </tr>\n",
              "    <tr>\n",
              "      <th>499998</th>\n",
              "      <td>1636</td>\n",
              "      <td>1.15</td>\n",
              "      <td>1.16</td>\n",
              "      <td>1.15</td>\n",
              "      <td>1.15</td>\n",
              "      <td>2615</td>\n",
              "      <td>1.15</td>\n",
              "    </tr>\n",
              "    <tr>\n",
              "      <th>499999</th>\n",
              "      <td>3228</td>\n",
              "      <td>1.13</td>\n",
              "      <td>1.14</td>\n",
              "      <td>1.12</td>\n",
              "      <td>1.13</td>\n",
              "      <td>3354</td>\n",
              "      <td>1.13</td>\n",
              "    </tr>\n",
              "  </tbody>\n",
              "</table>\n",
              "<p>500000 rows × 7 columns</p>\n",
              "</div>\n",
              "    <div class=\"colab-df-buttons\">\n",
              "\n",
              "  <div class=\"colab-df-container\">\n",
              "    <button class=\"colab-df-convert\" onclick=\"convertToInteractive('df-28b4712d-d32c-418c-bffa-190687ea778b')\"\n",
              "            title=\"Convert this dataframe to an interactive table.\"\n",
              "            style=\"display:none;\">\n",
              "\n",
              "  <svg xmlns=\"http://www.w3.org/2000/svg\" height=\"24px\" viewBox=\"0 -960 960 960\">\n",
              "    <path d=\"M120-120v-720h720v720H120Zm60-500h600v-160H180v160Zm220 220h160v-160H400v160Zm0 220h160v-160H400v160ZM180-400h160v-160H180v160Zm440 0h160v-160H620v160ZM180-180h160v-160H180v160Zm440 0h160v-160H620v160Z\"/>\n",
              "  </svg>\n",
              "    </button>\n",
              "\n",
              "  <style>\n",
              "    .colab-df-container {\n",
              "      display:flex;\n",
              "      gap: 12px;\n",
              "    }\n",
              "\n",
              "    .colab-df-convert {\n",
              "      background-color: #E8F0FE;\n",
              "      border: none;\n",
              "      border-radius: 50%;\n",
              "      cursor: pointer;\n",
              "      display: none;\n",
              "      fill: #1967D2;\n",
              "      height: 32px;\n",
              "      padding: 0 0 0 0;\n",
              "      width: 32px;\n",
              "    }\n",
              "\n",
              "    .colab-df-convert:hover {\n",
              "      background-color: #E2EBFA;\n",
              "      box-shadow: 0px 1px 2px rgba(60, 64, 67, 0.3), 0px 1px 3px 1px rgba(60, 64, 67, 0.15);\n",
              "      fill: #174EA6;\n",
              "    }\n",
              "\n",
              "    .colab-df-buttons div {\n",
              "      margin-bottom: 4px;\n",
              "    }\n",
              "\n",
              "    [theme=dark] .colab-df-convert {\n",
              "      background-color: #3B4455;\n",
              "      fill: #D2E3FC;\n",
              "    }\n",
              "\n",
              "    [theme=dark] .colab-df-convert:hover {\n",
              "      background-color: #434B5C;\n",
              "      box-shadow: 0px 1px 3px 1px rgba(0, 0, 0, 0.15);\n",
              "      filter: drop-shadow(0px 1px 2px rgba(0, 0, 0, 0.3));\n",
              "      fill: #FFFFFF;\n",
              "    }\n",
              "  </style>\n",
              "\n",
              "    <script>\n",
              "      const buttonEl =\n",
              "        document.querySelector('#df-28b4712d-d32c-418c-bffa-190687ea778b button.colab-df-convert');\n",
              "      buttonEl.style.display =\n",
              "        google.colab.kernel.accessAllowed ? 'block' : 'none';\n",
              "\n",
              "      async function convertToInteractive(key) {\n",
              "        const element = document.querySelector('#df-28b4712d-d32c-418c-bffa-190687ea778b');\n",
              "        const dataTable =\n",
              "          await google.colab.kernel.invokeFunction('convertToInteractive',\n",
              "                                                    [key], {});\n",
              "        if (!dataTable) return;\n",
              "\n",
              "        const docLinkHtml = 'Like what you see? Visit the ' +\n",
              "          '<a target=\"_blank\" href=https://colab.research.google.com/notebooks/data_table.ipynb>data table notebook</a>'\n",
              "          + ' to learn more about interactive tables.';\n",
              "        element.innerHTML = '';\n",
              "        dataTable['output_type'] = 'display_data';\n",
              "        await google.colab.output.renderOutput(dataTable, element);\n",
              "        const docLink = document.createElement('div');\n",
              "        docLink.innerHTML = docLinkHtml;\n",
              "        element.appendChild(docLink);\n",
              "      }\n",
              "    </script>\n",
              "  </div>\n",
              "\n",
              "\n",
              "<div id=\"df-6b587ca3-fcde-4e2d-b41a-9cd70b8b13f6\">\n",
              "  <button class=\"colab-df-quickchart\" onclick=\"quickchart('df-6b587ca3-fcde-4e2d-b41a-9cd70b8b13f6')\"\n",
              "            title=\"Suggest charts\"\n",
              "            style=\"display:none;\">\n",
              "\n",
              "<svg xmlns=\"http://www.w3.org/2000/svg\" height=\"24px\"viewBox=\"0 0 24 24\"\n",
              "     width=\"24px\">\n",
              "    <g>\n",
              "        <path d=\"M19 3H5c-1.1 0-2 .9-2 2v14c0 1.1.9 2 2 2h14c1.1 0 2-.9 2-2V5c0-1.1-.9-2-2-2zM9 17H7v-7h2v7zm4 0h-2V7h2v10zm4 0h-2v-4h2v4z\"/>\n",
              "    </g>\n",
              "</svg>\n",
              "  </button>\n",
              "\n",
              "<style>\n",
              "  .colab-df-quickchart {\n",
              "      --bg-color: #E8F0FE;\n",
              "      --fill-color: #1967D2;\n",
              "      --hover-bg-color: #E2EBFA;\n",
              "      --hover-fill-color: #174EA6;\n",
              "      --disabled-fill-color: #AAA;\n",
              "      --disabled-bg-color: #DDD;\n",
              "  }\n",
              "\n",
              "  [theme=dark] .colab-df-quickchart {\n",
              "      --bg-color: #3B4455;\n",
              "      --fill-color: #D2E3FC;\n",
              "      --hover-bg-color: #434B5C;\n",
              "      --hover-fill-color: #FFFFFF;\n",
              "      --disabled-bg-color: #3B4455;\n",
              "      --disabled-fill-color: #666;\n",
              "  }\n",
              "\n",
              "  .colab-df-quickchart {\n",
              "    background-color: var(--bg-color);\n",
              "    border: none;\n",
              "    border-radius: 50%;\n",
              "    cursor: pointer;\n",
              "    display: none;\n",
              "    fill: var(--fill-color);\n",
              "    height: 32px;\n",
              "    padding: 0;\n",
              "    width: 32px;\n",
              "  }\n",
              "\n",
              "  .colab-df-quickchart:hover {\n",
              "    background-color: var(--hover-bg-color);\n",
              "    box-shadow: 0 1px 2px rgba(60, 64, 67, 0.3), 0 1px 3px 1px rgba(60, 64, 67, 0.15);\n",
              "    fill: var(--button-hover-fill-color);\n",
              "  }\n",
              "\n",
              "  .colab-df-quickchart-complete:disabled,\n",
              "  .colab-df-quickchart-complete:disabled:hover {\n",
              "    background-color: var(--disabled-bg-color);\n",
              "    fill: var(--disabled-fill-color);\n",
              "    box-shadow: none;\n",
              "  }\n",
              "\n",
              "  .colab-df-spinner {\n",
              "    border: 2px solid var(--fill-color);\n",
              "    border-color: transparent;\n",
              "    border-bottom-color: var(--fill-color);\n",
              "    animation:\n",
              "      spin 1s steps(1) infinite;\n",
              "  }\n",
              "\n",
              "  @keyframes spin {\n",
              "    0% {\n",
              "      border-color: transparent;\n",
              "      border-bottom-color: var(--fill-color);\n",
              "      border-left-color: var(--fill-color);\n",
              "    }\n",
              "    20% {\n",
              "      border-color: transparent;\n",
              "      border-left-color: var(--fill-color);\n",
              "      border-top-color: var(--fill-color);\n",
              "    }\n",
              "    30% {\n",
              "      border-color: transparent;\n",
              "      border-left-color: var(--fill-color);\n",
              "      border-top-color: var(--fill-color);\n",
              "      border-right-color: var(--fill-color);\n",
              "    }\n",
              "    40% {\n",
              "      border-color: transparent;\n",
              "      border-right-color: var(--fill-color);\n",
              "      border-top-color: var(--fill-color);\n",
              "    }\n",
              "    60% {\n",
              "      border-color: transparent;\n",
              "      border-right-color: var(--fill-color);\n",
              "    }\n",
              "    80% {\n",
              "      border-color: transparent;\n",
              "      border-right-color: var(--fill-color);\n",
              "      border-bottom-color: var(--fill-color);\n",
              "    }\n",
              "    90% {\n",
              "      border-color: transparent;\n",
              "      border-bottom-color: var(--fill-color);\n",
              "    }\n",
              "  }\n",
              "</style>\n",
              "\n",
              "  <script>\n",
              "    async function quickchart(key) {\n",
              "      const quickchartButtonEl =\n",
              "        document.querySelector('#' + key + ' button');\n",
              "      quickchartButtonEl.disabled = true;  // To prevent multiple clicks.\n",
              "      quickchartButtonEl.classList.add('colab-df-spinner');\n",
              "      try {\n",
              "        const charts = await google.colab.kernel.invokeFunction(\n",
              "            'suggestCharts', [key], {});\n",
              "      } catch (error) {\n",
              "        console.error('Error during call to suggestCharts:', error);\n",
              "      }\n",
              "      quickchartButtonEl.classList.remove('colab-df-spinner');\n",
              "      quickchartButtonEl.classList.add('colab-df-quickchart-complete');\n",
              "    }\n",
              "    (() => {\n",
              "      let quickchartButtonEl =\n",
              "        document.querySelector('#df-6b587ca3-fcde-4e2d-b41a-9cd70b8b13f6 button');\n",
              "      quickchartButtonEl.style.display =\n",
              "        google.colab.kernel.accessAllowed ? 'block' : 'none';\n",
              "    })();\n",
              "  </script>\n",
              "</div>\n",
              "    </div>\n",
              "  </div>\n"
            ],
            "application/vnd.google.colaboratory.intrinsic+json": {
              "type": "dataframe",
              "variable_name": "tXY"
            }
          },
          "metadata": {},
          "execution_count": 6
        }
      ]
    },
    {
      "cell_type": "markdown",
      "metadata": {
        "id": "1FtA9fjlTyAi"
      },
      "source": [
        "Your task is to forecast the closing price for all future time steps (index IDs below)."
      ]
    },
    {
      "cell_type": "code",
      "metadata": {
        "id": "bQjKkPbnTzf2",
        "colab": {
          "base_uri": "https://localhost:8080/",
          "height": 130
        },
        "outputId": "b0c6b637-8639-4ffd-8fd9-70b92a328be7"
      },
      "source": [
        "pY = pd.read_csv('/content/drive/MyDrive/sampleSubmission.csv', index_col='id'); pY.T"
      ],
      "execution_count": null,
      "outputs": [
        {
          "output_type": "execute_result",
          "data": {
            "text/plain": [
              "id     500000  500001  500002  500003  500004  500005  500006  500007  500008  \\\n",
              "Close       0       0       0       0       0       0       0       0       0   \n",
              "\n",
              "id     500009  ...  524421  524422  524423  524424  524425  524426  524427  \\\n",
              "Close       0  ...       0       0       0       0       0       0       0   \n",
              "\n",
              "id     524428  524429  524430  \n",
              "Close       0       0       0  \n",
              "\n",
              "[1 rows x 24431 columns]"
            ],
            "text/html": [
              "\n",
              "  <div id=\"df-ce339cb8-2dd6-417b-be36-b6b7db65387c\" class=\"colab-df-container\">\n",
              "    <div>\n",
              "<style scoped>\n",
              "    .dataframe tbody tr th:only-of-type {\n",
              "        vertical-align: middle;\n",
              "    }\n",
              "\n",
              "    .dataframe tbody tr th {\n",
              "        vertical-align: top;\n",
              "    }\n",
              "\n",
              "    .dataframe thead th {\n",
              "        text-align: right;\n",
              "    }\n",
              "</style>\n",
              "<table border=\"1\" class=\"dataframe\">\n",
              "  <thead>\n",
              "    <tr style=\"text-align: right;\">\n",
              "      <th>id</th>\n",
              "      <th>500000</th>\n",
              "      <th>500001</th>\n",
              "      <th>500002</th>\n",
              "      <th>500003</th>\n",
              "      <th>500004</th>\n",
              "      <th>500005</th>\n",
              "      <th>500006</th>\n",
              "      <th>500007</th>\n",
              "      <th>500008</th>\n",
              "      <th>500009</th>\n",
              "      <th>...</th>\n",
              "      <th>524421</th>\n",
              "      <th>524422</th>\n",
              "      <th>524423</th>\n",
              "      <th>524424</th>\n",
              "      <th>524425</th>\n",
              "      <th>524426</th>\n",
              "      <th>524427</th>\n",
              "      <th>524428</th>\n",
              "      <th>524429</th>\n",
              "      <th>524430</th>\n",
              "    </tr>\n",
              "  </thead>\n",
              "  <tbody>\n",
              "    <tr>\n",
              "      <th>Close</th>\n",
              "      <td>0</td>\n",
              "      <td>0</td>\n",
              "      <td>0</td>\n",
              "      <td>0</td>\n",
              "      <td>0</td>\n",
              "      <td>0</td>\n",
              "      <td>0</td>\n",
              "      <td>0</td>\n",
              "      <td>0</td>\n",
              "      <td>0</td>\n",
              "      <td>...</td>\n",
              "      <td>0</td>\n",
              "      <td>0</td>\n",
              "      <td>0</td>\n",
              "      <td>0</td>\n",
              "      <td>0</td>\n",
              "      <td>0</td>\n",
              "      <td>0</td>\n",
              "      <td>0</td>\n",
              "      <td>0</td>\n",
              "      <td>0</td>\n",
              "    </tr>\n",
              "  </tbody>\n",
              "</table>\n",
              "<p>1 rows × 24431 columns</p>\n",
              "</div>\n",
              "    <div class=\"colab-df-buttons\">\n",
              "\n",
              "  <div class=\"colab-df-container\">\n",
              "    <button class=\"colab-df-convert\" onclick=\"convertToInteractive('df-ce339cb8-2dd6-417b-be36-b6b7db65387c')\"\n",
              "            title=\"Convert this dataframe to an interactive table.\"\n",
              "            style=\"display:none;\">\n",
              "\n",
              "  <svg xmlns=\"http://www.w3.org/2000/svg\" height=\"24px\" viewBox=\"0 -960 960 960\">\n",
              "    <path d=\"M120-120v-720h720v720H120Zm60-500h600v-160H180v160Zm220 220h160v-160H400v160Zm0 220h160v-160H400v160ZM180-400h160v-160H180v160Zm440 0h160v-160H620v160ZM180-180h160v-160H180v160Zm440 0h160v-160H620v160Z\"/>\n",
              "  </svg>\n",
              "    </button>\n",
              "\n",
              "  <style>\n",
              "    .colab-df-container {\n",
              "      display:flex;\n",
              "      gap: 12px;\n",
              "    }\n",
              "\n",
              "    .colab-df-convert {\n",
              "      background-color: #E8F0FE;\n",
              "      border: none;\n",
              "      border-radius: 50%;\n",
              "      cursor: pointer;\n",
              "      display: none;\n",
              "      fill: #1967D2;\n",
              "      height: 32px;\n",
              "      padding: 0 0 0 0;\n",
              "      width: 32px;\n",
              "    }\n",
              "\n",
              "    .colab-df-convert:hover {\n",
              "      background-color: #E2EBFA;\n",
              "      box-shadow: 0px 1px 2px rgba(60, 64, 67, 0.3), 0px 1px 3px 1px rgba(60, 64, 67, 0.15);\n",
              "      fill: #174EA6;\n",
              "    }\n",
              "\n",
              "    .colab-df-buttons div {\n",
              "      margin-bottom: 4px;\n",
              "    }\n",
              "\n",
              "    [theme=dark] .colab-df-convert {\n",
              "      background-color: #3B4455;\n",
              "      fill: #D2E3FC;\n",
              "    }\n",
              "\n",
              "    [theme=dark] .colab-df-convert:hover {\n",
              "      background-color: #434B5C;\n",
              "      box-shadow: 0px 1px 3px 1px rgba(0, 0, 0, 0.15);\n",
              "      filter: drop-shadow(0px 1px 2px rgba(0, 0, 0, 0.3));\n",
              "      fill: #FFFFFF;\n",
              "    }\n",
              "  </style>\n",
              "\n",
              "    <script>\n",
              "      const buttonEl =\n",
              "        document.querySelector('#df-ce339cb8-2dd6-417b-be36-b6b7db65387c button.colab-df-convert');\n",
              "      buttonEl.style.display =\n",
              "        google.colab.kernel.accessAllowed ? 'block' : 'none';\n",
              "\n",
              "      async function convertToInteractive(key) {\n",
              "        const element = document.querySelector('#df-ce339cb8-2dd6-417b-be36-b6b7db65387c');\n",
              "        const dataTable =\n",
              "          await google.colab.kernel.invokeFunction('convertToInteractive',\n",
              "                                                    [key], {});\n",
              "        if (!dataTable) return;\n",
              "\n",
              "        const docLinkHtml = 'Like what you see? Visit the ' +\n",
              "          '<a target=\"_blank\" href=https://colab.research.google.com/notebooks/data_table.ipynb>data table notebook</a>'\n",
              "          + ' to learn more about interactive tables.';\n",
              "        element.innerHTML = '';\n",
              "        dataTable['output_type'] = 'display_data';\n",
              "        await google.colab.output.renderOutput(dataTable, element);\n",
              "        const docLink = document.createElement('div');\n",
              "        docLink.innerHTML = docLinkHtml;\n",
              "        element.appendChild(docLink);\n",
              "      }\n",
              "    </script>\n",
              "  </div>\n",
              "\n",
              "    </div>\n",
              "  </div>\n"
            ],
            "application/vnd.google.colaboratory.intrinsic+json": {
              "type": "dataframe"
            }
          },
          "metadata": {},
          "execution_count": 7
        }
      ]
    },
    {
      "cell_type": "code",
      "metadata": {
        "id": "9XSZyYCpT1Pk"
      },
      "source": [
        "tmr = Timer() # runtime limit (in seconds). Add all of your code after the timer"
      ],
      "execution_count": null,
      "outputs": []
    },
    {
      "cell_type": "markdown",
      "metadata": {
        "id": "Xpo-Pp0_T5vv"
      },
      "source": [
        "<font size=5>⏳</font> <strong><font color=orange size=5>Your Code, Documentation, Ideas and Timer Start Here...</font></strong>\n"
      ]
    },
    {
      "cell_type": "markdown",
      "metadata": {
        "id": "8lwJKYCgT9nt"
      },
      "source": [
        "**TODO. Explain your preprocessing:** i.e. feature engineering, subsampling, clustering, dimensionality reduction, etc."
      ]
    },
    {
      "cell_type": "markdown",
      "metadata": {
        "id": "ywEf1PZUT_nX"
      },
      "source": [
        "**TODO. Explain your modeling approach:** ideas you tried and why you thought they would be helpful. Takeaway: how these decisions guided you in modeling."
      ]
    },
    {
      "cell_type": "markdown",
      "metadata": {
        "id": "_SljnhkIUEPM"
      },
      "source": [
        "This is your baseline DNN model. Remember to [seed all your experiments](https://pytorch.org/docs/stable/notes/randomness.html#reproducibility) for reproducibility."
      ]
    },
    {
      "cell_type": "code",
      "metadata": {
        "id": "_0zQ1_EIUGil",
        "colab": {
          "base_uri": "https://localhost:8080/",
          "height": 203
        },
        "outputId": "53d1242e-7f07-4f84-9c09-4772943d7045"
      },
      "source": [
        "K, (N, p), Nx, Ny = 50, tXY.shape, 20000, len(pY)  # samples, dataset dim, train set size, forecast set size\n",
        "LtX, LtY = [], []\n",
        "for i in range(N-Ny-K, N-Ny):                     # populate K samples with past X series and future Y series\n",
        "  LtX.append(tXY.iloc[(i-Nx):i, :].values)        # X: historical 7Dim observations for Nx steps behind\n",
        "  LtY.append(tXY.loc[i:(i+Ny-1),'Close'].values)  # Y: future closing prices for Ny steps ahead\n",
        "taX, taY = np.array(LtX), np.array(LtY)           # training arrays past input X and future output Y\n",
        "print(f'taX.shape=(K,Nx,p)={taX.shape}; taY=(K,Ny)={taY.shape}')  # convert to 3-tensors\n",
        "\n",
        "df = pd.DataFrame(np.r_[taX[0,:,4], taY[0,:]], columns=['train train price'])\n",
        "ax = df.plot(figsize=(30,3), title=f'Training series (before and after)- just a closing price series (out of K={K})');\n",
        "pd.DataFrame(taX[0,:,4], columns=['train past price']).plot(grid=True, ax=ax);"
      ],
      "execution_count": null,
      "outputs": [
        {
          "output_type": "stream",
          "name": "stdout",
          "text": [
            "taX.shape=(K,Nx,p)=(50, 20000, 7); taY=(K,Ny)=(50, 24431)\n"
          ]
        },
        {
          "output_type": "display_data",
          "data": {
            "text/plain": [
              "<Figure size 3000x300 with 1 Axes>"
            ],
            "image/png": "[encoded data removed]"
          },
          "metadata": {}
        }
      ]
    },
    {
      "cell_type": "markdown",
      "metadata": {
        "id": "Qszqi_GVUJMC"
      },
      "source": [
        "Build an LSTM model with two hidden layers. It splits $K$ samples into batches with 7D series $X_{N_x\\times p}$ as input and 1D series $Y_{N_y\\times 1}$ as output.\n"
      ]
    },
    {
      "cell_type": "code",
      "source": [
        "taX = torch.Tensor(taX)\n",
        "taY = torch.Tensor(taY)"
      ],
      "metadata": {
        "id": "05LteBPsPsev"
      },
      "execution_count": null,
      "outputs": []
    },
    {
      "cell_type": "code",
      "source": [
        "ds = TensorDataset(taX, taY)"
      ],
      "metadata": {
        "id": "q7TA16xzPp3k"
      },
      "execution_count": null,
      "outputs": []
    },
    {
      "cell_type": "code",
      "source": [
        "dl = DataLoader(ds, batch_size=32)"
      ],
      "metadata": {
        "id": "uc39HBk5P7Hu"
      },
      "execution_count": null,
      "outputs": []
    },
    {
      "cell_type": "code",
      "source": [
        "device = torch.device('cuda' if torch.cuda.is_available() else 'cpu')"
      ],
      "metadata": {
        "id": "ERbg6K_ALF94"
      },
      "execution_count": null,
      "outputs": []
    },
    {
      "cell_type": "code",
      "source": [
        "class MyLSTMModel(nn.Module):\n",
        "  def __init__(\n",
        "      self,\n",
        "      output_size,\n",
        "      input_size,\n",
        "      hidden_size=110,\n",
        "      num_layers=2,\n",
        "      bias=True,\n",
        "      batch_first=True,\n",
        "      dropout=0.2,\n",
        "\n",
        "    ):\n",
        "      super().__init__()\n",
        "\n",
        "      self.lstm = nn.LSTM(input_size, hidden_size, dropout=dropout, num_layers=num_layers, batch_first=batch_first)\n",
        "      self.dropout = nn.Dropout(dropout)\n",
        "      self.linear = nn.LazyLinear(output_size)\n",
        "\n",
        "  def forward(self, X):\n",
        "      _, (last, _) = self.lstm(X)\n",
        "      last = last[-1]\n",
        "      last = self.dropout(last)\n",
        "      last = self.linear(last)\n",
        "\n",
        "      return last"
      ],
      "metadata": {
        "id": "CObfL_rkRvhb"
      },
      "execution_count": null,
      "outputs": []
    },
    {
      "cell_type": "code",
      "source": [
        "torch.manual_seed(0)\n",
        "torch.cuda.manual_seed_all(0)\n",
        "\n",
        "m = MyLSTMModel(Ny, p)\n",
        "m.to(device)\n",
        "\n",
        "optim = torch.optim.Adam(m.parameters(), lr=0.01)\n",
        "loss = nn.MSELoss()"
      ],
      "metadata": {
        "id": "hIWH8EBrLIDL",
        "colab": {
          "base_uri": "https://localhost:8080/"
        },
        "outputId": "c8e4acea-970d-40e2-dccb-5f1324e25292"
      },
      "execution_count": null,
      "outputs": [
        {
          "output_type": "stream",
          "name": "stderr",
          "text": [
            "/usr/local/lib/python3.10/dist-packages/torch/nn/modules/lazy.py:181: UserWarning: Lazy modules are a new feature under heavy development so changes to the API or functionality can happen at any moment.\n",
            "  warnings.warn('Lazy modules are a new feature under heavy development '\n"
          ]
        },
        {
          "output_type": "execute_result",
          "data": {
            "text/plain": [
              "MyLSTMModel(\n",
              "  (lstm): LSTM(7, 110, num_layers=2, batch_first=True, dropout=0.2)\n",
              "  (dropout): Dropout(p=0.2, inplace=False)\n",
              "  (linear): LazyLinear(in_features=0, out_features=24431, bias=True)\n",
              ")"
            ]
          },
          "metadata": {},
          "execution_count": 14
        }
      ]
    },
    {
      "cell_type": "code",
      "source": [
        "%%time\n",
        "n_epoch = 25\n",
        "m.train()\n",
        "\n",
        "for e in range(n_epoch):\n",
        "  losses = []\n",
        "  print(f\"Epoch: {e}\")\n",
        "\n",
        "  for i, (X, Y) in enumerate(dl):\n",
        "    X = X.to(device)\n",
        "    Y = Y.to(device)\n",
        "    optim.zero_grad()\n",
        "\n",
        "    pred = m(X)\n",
        "\n",
        "    l = loss(pred, Y)\n",
        "    l.backward()\n",
        "    optim.step()\n",
        "\n",
        "    losses.append(l.detach().item())\n",
        "\n",
        "  print(f\"Avg epoh loss: {sum(losses) / len(losses)}\")"
      ],
      "metadata": {
        "id": "XTe72jLMQRwG",
        "colab": {
          "base_uri": "https://localhost:8080/"
        },
        "outputId": "fc0d56f2-2c95-440a-8ade-1d7457fb5947"
      },
      "execution_count": null,
      "outputs": [
        {
          "output_type": "stream",
          "name": "stdout",
          "text": [
            "Epoch: 0\n",
            "Avg epoh loss: 1.7859631776809692\n",
            "Epoch: 1\n",
            "Avg epoh loss: 0.7879682034254074\n",
            "Epoch: 2\n",
            "Avg epoh loss: 0.22680067270994186\n",
            "Epoch: 3\n",
            "Avg epoh loss: 0.18079595267772675\n",
            "Epoch: 4\n",
            "Avg epoh loss: 0.048187730833888054\n",
            "Epoch: 5\n",
            "Avg epoh loss: 0.08333572745323181\n",
            "Epoch: 6\n",
            "Avg epoh loss: 0.08907115831971169\n",
            "Epoch: 7\n",
            "Avg epoh loss: 0.06506813317537308\n",
            "Epoch: 8\n",
            "Avg epoh loss: 0.03441793844103813\n",
            "Epoch: 9\n",
            "Avg epoh loss: 0.032827066257596016\n",
            "Epoch: 10\n",
            "Avg epoh loss: 0.04673049412667751\n",
            "Epoch: 11\n",
            "Avg epoh loss: 0.04241088032722473\n",
            "Epoch: 12\n",
            "Avg epoh loss: 0.03577706404030323\n",
            "Epoch: 13\n",
            "Avg epoh loss: 0.029988663271069527\n",
            "Epoch: 14\n",
            "Avg epoh loss: 0.038993606343865395\n",
            "Epoch: 15\n",
            "Avg epoh loss: 0.03448780067265034\n",
            "Epoch: 16\n",
            "Avg epoh loss: 0.035411459393799305\n",
            "Epoch: 17\n",
            "Avg epoh loss: 0.02874139230698347\n",
            "Epoch: 18\n",
            "Avg epoh loss: 0.03405052702873945\n",
            "Epoch: 19\n",
            "Avg epoh loss: 0.025827783159911633\n",
            "Epoch: 20\n",
            "Avg epoh loss: 0.025587696582078934\n",
            "Epoch: 21\n",
            "Avg epoh loss: 0.021672649774700403\n",
            "Epoch: 22\n",
            "Avg epoh loss: 0.029141828417778015\n",
            "Epoch: 23\n",
            "Avg epoh loss: 0.028680930845439434\n",
            "Epoch: 24\n",
            "Avg epoh loss: 0.02762035559862852\n",
            "CPU times: user 19.2 s, sys: 126 ms, total: 19.3 s\n",
            "Wall time: 20 s\n"
          ]
        }
      ]
    },
    {
      "cell_type": "markdown",
      "metadata": {
        "id": "Y4U8JH30UN2j"
      },
      "source": [
        "The plot below: the model memorized the prices from recent history (plus some local noise). Still you can use these predictions to visually (i.e. qualitatively) determine whether predictions are meaningful (i.e. have price-like shape) or just noise."
      ]
    },
    {
      "cell_type": "code",
      "source": [
        "m.eval();  # To disable dropout at evaluation stage"
      ],
      "metadata": {
        "id": "OlsdlQlfYg3R"
      },
      "execution_count": null,
      "outputs": []
    },
    {
      "cell_type": "code",
      "source": [
        "tX_recent = tXY.iloc[-Nx:,:]  # most recent history of the coin\n",
        "print(f'tX_recent.shape=(Nx,p)={tX_recent.shape}')\n",
        "with torch.no_grad():\n",
        "  pY['Close'] = m(torch.Tensor(tX_recent.values[np.newaxis,...]).to(device)).cpu().numpy().flatten()\n",
        "ax = pd.concat([tX_recent.Close, pY.Close]).plot(figsize=(30,3), title='Most recent input X and forecasted output Y');\n",
        "tX_recent.Close.plot(ax=ax, grid=True);\n",
        "ax.legend([\"Future predicted closing prices\", \"Historical (train) closing prices\"]);"
      ],
      "metadata": {
        "id": "qe7iruEsYtDu",
        "colab": {
          "base_uri": "https://localhost:8080/",
          "height": 214
        },
        "outputId": "604496ff-f945-4474-d343-422877c4b648"
      },
      "execution_count": null,
      "outputs": [
        {
          "output_type": "stream",
          "name": "stdout",
          "text": [
            "tX_recent.shape=(Nx,p)=(20000, 7)\n"
          ]
        },
        {
          "output_type": "display_data",
          "data": {
            "text/plain": [
              "<Figure size 3000x300 with 1 Axes>"
            ],
            "image/png": "[encoded data removed]"
          },
          "metadata": {}
        }
      ]
    },
    {
      "cell_type": "markdown",
      "metadata": {
        "id": "OZWsxVIgURQm"
      },
      "source": [
        "1. The model generates a baseline submission CSV file, see Colab folder (🗀 on the left).\n",
        "1. You can download the generated CSV file and submit it to Kaggle."
      ]
    },
    {
      "cell_type": "code",
      "metadata": {
        "id": "O_ZriML-UTXw"
      },
      "source": [
        "ToCSV(pY, 'Crypto-baseline')"
      ],
      "execution_count": null,
      "outputs": []
    },
    {
      "cell_type": "markdown",
      "source": [
        "# **References:**"
      ],
      "metadata": {
        "id": "pzBsjCvS_kEw"
      }
    },
    {
      "cell_type": "markdown",
      "source": [
        "FINAL DECISION:"
      ],
      "metadata": {
        "id": "MWKyDy7DkCYF"
      }
    },
    {
      "cell_type": "markdown",
      "source": [
        "After conducting a series of experiments and exploring various combinations of hyperparameters, we have made the decision to adjust two critical hyperparameters in our LSTM model. The changes were carefully evaluated based on their impact on model performance and generalization ability.\n",
        "\n",
        "* Epochs (n_epoch): from  20 epochs to 25 epochs\n",
        "\n",
        "Rationale: Increasing the number of epochs from 20 to 25 allowed the model additional iterations to learn from the dataset, improving the convergence rate without significant overfitting.\n",
        "\n",
        "* Hidden Size (hidden_size):from 100 units to 110 units\n",
        "\n",
        "* Rationale: The hidden layer size was increased from 100 to 110 units to enhance the model’s capacity to capture complex patterns in the data."
      ],
      "metadata": {
        "id": "pxVb9JBWjhB4"
      }
    },
    {
      "cell_type": "markdown",
      "source": [
        "OUR ATTEMPTS :"
      ],
      "metadata": {
        "id": "03A8ufTKj_Qs"
      }
    },
    {
      "cell_type": "markdown",
      "source": [
        "We aimed to enhance our model's financial time series forecasting by implementing ideas which were provided in the end of collab.\n",
        "\n",
        "At first we implemented the idea of shifting the target to predict returns (Return, LogReturn) to leverage their potentially more stationary nature.\n",
        "Secondly we build new features including percentage changes, log differences, fractional changes, and squared prices to capture a broader spectrum of data patterns. ( we also tried various conbinations of this parameters )\n",
        "Then we conducted several experiments with forecasting at longer intervals to assess performance over extended horizons.\n",
        "The results and outcomes were the following:\n",
        "Adding multiple new features increased the model's complexity, raising the risk of overfitting without necessarily improving prediction accuracy.\n",
        "Also our model showed variable accuracy across different datasets, sometimes capturing trends but often diverging significantly from actual market movements.\n",
        "A notable issue was the generation of negative prices when converting forecasted returns to price predictions.\n",
        "\n",
        "The attempted feature enhancements and methodological shifts did not yield the expected improvements in forecasting accuracy. Moreover, the approach led to impractical outcomes like negative predicted prices, so we decided to steer clear from this modifications."
      ],
      "metadata": {
        "id": "d97cz2c2hbhs"
      }
    },
    {
      "cell_type": "markdown",
      "source": [
        "1. Remember to cite your sources here as well! At the least, your textbook should be cited. Google Scholar allows you to effortlessly copy/paste an APA citation format for books and publications. Also cite StackOverflow, package documentation, and other meaningful internet resources to help your peers learn from these (and to avoid plagiarism claims)."
      ],
      "metadata": {
        "id": "2kr8Q-9T_nAb"
      }
    },
    {
      "cell_type": "markdown",
      "source": [
        "https://pytorch.org/docs/stable/data.html\n",
        "https://youtube.com/playlist?list=PLAqhIrjkxbuWI23v9cThsA9GvCAUhRvKZ&si=kHuJmAbxlPdp5LpG\n",
        "\n"
      ],
      "metadata": {
        "id": "WCfjREG_hteC"
      }
    },
    {
      "cell_type": "markdown",
      "metadata": {
        "id": "HZHs7admUZBW"
      },
      "source": [
        "<font size=5>⌛</font> <strong><font color=orange size=5>Do not exceed competition's runtime limit!</font></strong>\n",
        "\n",
        "<hr color=red>\n"
      ]
    },
    {
      "cell_type": "code",
      "metadata": {
        "id": "fbE5gM67Ub58"
      },
      "source": [
        "tmr.ShowTime()    # measure Colab's runtime. Do not remove. Keep as the last cell in your notebook."
      ],
      "execution_count": null,
      "outputs": []
    },
    {
      "cell_type": "markdown",
      "metadata": {
        "id": "9g16vCtCUbFq"
      },
      "source": [
        "# 💡**Starter Ideas**"
      ]
    },
    {
      "cell_type": "markdown",
      "metadata": {
        "id": "YvS32F27UjFW"
      },
      "source": [
        "1. Try different RNN architectures and hyperparameters\n",
        "1. Try [correlation loss/metric](https://duckduckgo.com/?q=correlation+loss+in+tensorflow&ia=web) (or equivalent)\n",
        "1. Try longer/shorter history. FYI: GPU may not fit all observations, but you could lower the precision or simplify DNN\n",
        "1. Try forecasting returns (differences or log differences at different lags) instead of actual values. Returns might appear \"more\" stationary (You'll need to compute forecasted prices from forecasted returns later)\n",
        "1. Try new features: differences, fractions, powers of existing features, lagged features or lagged differences,..\n",
        "1. Try a different time scale. Eg. forecasting every $k$ steps and then imputing interim values\n",
        "1. Try technique in HOML pp.509-510\n",
        "1. Try (programmatically) assigning higher/lower weights to history or historical events (such as extreme events)\n",
        "1. Check [Kaggle G-Research Crypto Forecasting](https://www.kaggle.com/c/g-research-crypto-forecasting/code) competition for more suitable ideas.\n",
        "1. Try further smoothing/averaging and forecasting values at sparser intervals\n",
        "1. Try forecasting just the future trend"
      ]
    }
  ]
}